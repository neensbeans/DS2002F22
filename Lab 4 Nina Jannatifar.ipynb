{
 "cells": [
  {
   "cell_type": "markdown",
   "id": "6dc7c0dc",
   "metadata": {},
   "source": [
    "Lab 3.5\n",
    "Due: Sunday at 11:59 P.M. via Collab and GitHub\n",
    "\n",
    "Learning Objective\n",
    "1.\tPut into practice using Python to interact and call a public API successfully\n",
    "2.\tLook at the data within JSON and DataFrames\n",
    "3.\tWrite your data to a local file (JSON)\n",
    "4.\tUse basic visualization to display information\n",
    "5.\tInteract with users\n",
    "\n",
    "Challenge:\n",
    "You have seen some examples of how to interact with JSON, CSV and make API Calls. Take some time to explore the YAHOO Finance Guide https://syncwith.com/yahoo-finance/yahoo-finance-api which shows you endpoints for calling information. Your job is to code a Python Program that does the following things:\n",
    "\n",
    "1.\tTakes user input for a stock (using the Ticker Symbol): IE with the input() command\n",
    "2.\tYou will display back the user: Name Ticker, Full Name of the Stock, Current Price, Target Mean Price, Cash on Hand, Profit Margins\n",
    "3.\tStore the Results Locally in JSON Format with just those items and include a date of when that data was pulled\n",
    "4.\tHandle Errors (IE, the stock doesn’t exist and/or the API is not returning information)\n",
    "\n",
    "You will have to read the documentation and figure out which modules to call to get the data that you need. You will need to make more than one call to this API. Use the examples in our Zoom Session to guide you, but the documentation will be enough. Post your code to GitHub.\n",
    "\n",
    "Bonus –\n",
    "1.\tUse MatPlotLib to chart the historical price of a stock price’s highest value over the past 5 days. "
   ]
  },
  {
   "cell_type": "code",
   "execution_count": 161,
   "id": "1ba62492",
   "metadata": {},
   "outputs": [],
   "source": [
    "import os\n",
    "import json\n",
    "import pprint\n",
    "import requests\n",
    "import requests.exceptions\n",
    "import pandas as pd"
   ]
  },
  {
   "cell_type": "code",
   "execution_count": 180,
   "id": "20b25333",
   "metadata": {},
   "outputs": [
    {
     "name": "stdout",
     "output_type": "stream",
     "text": [
      "AAPL\n"
     ]
    }
   ],
   "source": [
    "stock = input() # this asks the user for a stock/ticker "
   ]
  },
  {
   "cell_type": "code",
   "execution_count": 182,
   "id": "fbed1cb9",
   "metadata": {},
   "outputs": [
    {
     "name": "stdout",
     "output_type": "stream",
     "text": [
      "AAPL\n"
     ]
    }
   ],
   "source": [
    "# Display back ticker symbol\n",
    "print(stock)"
   ]
  },
  {
   "cell_type": "code",
   "execution_count": 183,
   "id": "7c993192",
   "metadata": {},
   "outputs": [
    {
     "name": "stdout",
     "output_type": "stream",
     "text": [
      "{'symbols': 'AAPL'}\n"
     ]
    }
   ],
   "source": [
    "#step 1 set up url with the endpoint\n",
    "#base url https://query1.finance.yahoo.com/v7/finance/quote\n",
    "api_url1 = 'https://query1.finance.yahoo.com/v7/finance/quote'\n",
    "queryString = {\"symbols\": stock}\n",
    "print(queryString)"
   ]
  },
  {
   "cell_type": "code",
   "execution_count": 184,
   "id": "427ae4ab",
   "metadata": {},
   "outputs": [],
   "source": [
    "header_var ={\n",
    "    'User-Agent': 'Mozilla/5.0 (Macintosh; Intel Mac OS X 10_10_1) AppleWebKit/537.36 (KHTML, like Gecko) Chrome/39.0.2171.95 Safari/537.36'}\n",
    "def get_api_data(url):\n",
    "    try:\n",
    "        response = requests.get(url, headers=header_var, params=queryString)\n",
    "        response.raise_for_status()\n",
    "\n",
    "    except requests.exceptions.HTTPError as errh:\n",
    "        return \"An Http Error occurred: \" + repr(errh)\n",
    "    except requests.exceptions.ConnectionError as errc:\n",
    "        return \"An Error Connecting to the API occurred: \" + repr(errc)\n",
    "    except requests.exceptions.Timeout as errt:\n",
    "        return \"A Timeout Error occurred: \" + repr(errt)\n",
    "    except requests.exceptions.RequestException as err:\n",
    "        return \"An Unknown Error occurred: \" + repr(err)\n",
    "        \n",
    "    return response.json()"
   ]
  },
  {
   "cell_type": "code",
   "execution_count": 185,
   "id": "2c7dd0fb",
   "metadata": {},
   "outputs": [
    {
     "data": {
      "text/plain": [
       "{'quoteResponse': {'result': [{'language': 'en-US',\n",
       "    'region': 'US',\n",
       "    'quoteType': 'EQUITY',\n",
       "    'typeDisp': 'Equity',\n",
       "    'quoteSourceName': 'Nasdaq Real Time Price',\n",
       "    'triggerable': True,\n",
       "    'customPriceAlertConfidence': 'HIGH',\n",
       "    'marketState': 'CLOSED',\n",
       "    'currency': 'USD',\n",
       "    'regularMarketChangePercent': -3.224002,\n",
       "    'regularMarketPrice': 138.38,\n",
       "    'longName': 'Apple Inc.',\n",
       "    'messageBoardId': 'finmb_24937',\n",
       "    'exchangeTimezoneName': 'America/New_York',\n",
       "    'exchangeTimezoneShortName': 'EDT',\n",
       "    'gmtOffSetMilliseconds': -14400000,\n",
       "    'market': 'us_market',\n",
       "    'esgPopulated': False,\n",
       "    'exchange': 'NMS',\n",
       "    'shortName': 'Apple Inc.',\n",
       "    'regularMarketDayHigh': 144.52,\n",
       "    'regularMarketDayRange': '138.19 - 144.52',\n",
       "    'regularMarketDayLow': 138.19,\n",
       "    'regularMarketVolume': 88597969,\n",
       "    'regularMarketPreviousClose': 142.99,\n",
       "    'bid': 138.06,\n",
       "    'ask': 138.08,\n",
       "    'bidSize': 9,\n",
       "    'askSize': 9,\n",
       "    'fullExchangeName': 'NasdaqGS',\n",
       "    'financialCurrency': 'USD',\n",
       "    'regularMarketOpen': 144.31,\n",
       "    'averageDailyVolume3Month': 81031121,\n",
       "    'averageDailyVolume10Day': 85997680,\n",
       "    'fiftyTwoWeekLowChange': 9.340012,\n",
       "    'fiftyTwoWeekLowChangePercent': 0.07238075,\n",
       "    'fiftyTwoWeekRange': '129.04 - 182.94',\n",
       "    'fiftyTwoWeekHighChange': -44.559998,\n",
       "    'fiftyTwoWeekHighChangePercent': -0.24357711,\n",
       "    'fiftyTwoWeekLow': 129.04,\n",
       "    'fiftyTwoWeekHigh': 182.94,\n",
       "    'dividendDate': 1660176000,\n",
       "    'earningsTimestamp': 1659038400,\n",
       "    'earningsTimestampStart': 1666814400,\n",
       "    'earningsTimestampEnd': 1667246400,\n",
       "    'trailingAnnualDividendRate': 0.89,\n",
       "    'trailingPE': 22.872726,\n",
       "    'trailingAnnualDividendYield': 0.0062242113,\n",
       "    'epsTrailingTwelveMonths': 6.05,\n",
       "    'epsForward': 6.47,\n",
       "    'epsCurrentYear': 6.11,\n",
       "    'priceEpsCurrentYear': 22.648119,\n",
       "    'sharesOutstanding': 16070800384,\n",
       "    'bookValue': 3.61,\n",
       "    'fiftyDayAverage': 156.3508,\n",
       "    'fiftyDayAverageChange': -17.970795,\n",
       "    'fiftyDayAverageChangePercent': -0.11493894,\n",
       "    'twoHundredDayAverage': 158.17775,\n",
       "    'twoHundredDayAverageChange': -19.797745,\n",
       "    'twoHundredDayAverageChangePercent': -0.12516138,\n",
       "    'marketCap': 2223877390336,\n",
       "    'forwardPE': 21.387945,\n",
       "    'priceToBook': 38.332413,\n",
       "    'sourceInterval': 15,\n",
       "    'exchangeDataDelayedBy': 0,\n",
       "    'averageAnalystRating': '1.9 - Buy',\n",
       "    'tradeable': False,\n",
       "    'cryptoTradeable': False,\n",
       "    'firstTradeDateMilliseconds': 345479400000,\n",
       "    'priceHint': 2,\n",
       "    'postMarketChangePercent': -0.216797,\n",
       "    'postMarketTime': 1665791999,\n",
       "    'postMarketPrice': 138.08,\n",
       "    'postMarketChange': -0.300003,\n",
       "    'regularMarketChange': -4.6100006,\n",
       "    'regularMarketTime': 1665777603,\n",
       "    'displayName': 'Apple',\n",
       "    'symbol': 'AAPL'}],\n",
       "  'error': None}}"
      ]
     },
     "execution_count": 185,
     "metadata": {},
     "output_type": "execute_result"
    }
   ],
   "source": [
    "stock_json = get_api_data(api_url1)\n",
    "stock_json"
   ]
  },
  {
   "cell_type": "code",
   "execution_count": 186,
   "id": "bcd764b5",
   "metadata": {},
   "outputs": [
    {
     "name": "stdout",
     "output_type": "stream",
     "text": [
      "AAPL\n"
     ]
    }
   ],
   "source": [
    "# Display back name ticker and check if the stock is valid\n",
    "emptyList = []\n",
    "if stock_json['quoteResponse']['result'] == emptyList:\n",
    "    print(\"This is not a valid stock ticker. Please enter a new ticker.\")\n",
    "else:\n",
    "    ticker = stock_json['quoteResponse']['result'][0]['symbol']\n",
    "    print(ticker)"
   ]
  },
  {
   "cell_type": "code",
   "execution_count": 187,
   "id": "1ba7ee07",
   "metadata": {},
   "outputs": [
    {
     "data": {
      "text/plain": [
       "'Apple Inc.'"
      ]
     },
     "execution_count": 187,
     "metadata": {},
     "output_type": "execute_result"
    }
   ],
   "source": [
    "# Display back full name of the stock\n",
    "fullName = stock_json['quoteResponse']['result'][0]['longName']\n",
    "fullName"
   ]
  },
  {
   "cell_type": "code",
   "execution_count": 188,
   "id": "370c0952",
   "metadata": {},
   "outputs": [],
   "source": [
    "api_url2 = \"https://query1.finance.yahoo.com/v10/finance/quoteSummary/\"+stock+\"?modules=financialData\""
   ]
  },
  {
   "cell_type": "code",
   "execution_count": 189,
   "id": "4823f0d1",
   "metadata": {},
   "outputs": [
    {
     "data": {
      "text/plain": [
       "{'quoteSummary': {'result': [{'financialData': {'maxAge': 86400,\n",
       "     'currentPrice': {'raw': 138.38, 'fmt': '138.38'},\n",
       "     'targetHighPrice': {'raw': 220.0, 'fmt': '220.00'},\n",
       "     'targetLowPrice': {'raw': 130.0, 'fmt': '130.00'},\n",
       "     'targetMeanPrice': {'raw': 183.16, 'fmt': '183.16'},\n",
       "     'targetMedianPrice': {'raw': 185.0, 'fmt': '185.00'},\n",
       "     'recommendationMean': {'raw': 1.9, 'fmt': '1.90'},\n",
       "     'recommendationKey': 'buy',\n",
       "     'numberOfAnalystOpinions': {'raw': 41, 'fmt': '41', 'longFmt': '41'},\n",
       "     'totalCash': {'raw': 48230998016,\n",
       "      'fmt': '48.23B',\n",
       "      'longFmt': '48,230,998,016'},\n",
       "     'totalCashPerShare': {'raw': 3.001, 'fmt': '3'},\n",
       "     'ebitda': {'raw': 129556996096,\n",
       "      'fmt': '129.56B',\n",
       "      'longFmt': '129,556,996,096'},\n",
       "     'totalDebt': {'raw': 119691001856,\n",
       "      'fmt': '119.69B',\n",
       "      'longFmt': '119,691,001,856'},\n",
       "     'quickRatio': {'raw': 0.697, 'fmt': '0.70'},\n",
       "     'currentRatio': {'raw': 0.865, 'fmt': '0.87'},\n",
       "     'totalRevenue': {'raw': 387541991424,\n",
       "      'fmt': '387.54B',\n",
       "      'longFmt': '387,541,991,424'},\n",
       "     'debtToEquity': {'raw': 205.984, 'fmt': '205.98'},\n",
       "     'revenuePerShare': {'raw': 23.732, 'fmt': '23.73'},\n",
       "     'returnOnAssets': {'raw': 0.22204, 'fmt': '22.20%'},\n",
       "     'returnOnEquity': {'raw': 1.62816, 'fmt': '162.82%'},\n",
       "     'grossProfits': {'raw': 152836000000,\n",
       "      'fmt': '152.84B',\n",
       "      'longFmt': '152,836,000,000'},\n",
       "     'freeCashflow': {'raw': 83344621568,\n",
       "      'fmt': '83.34B',\n",
       "      'longFmt': '83,344,621,568'},\n",
       "     'operatingCashflow': {'raw': 118224003072,\n",
       "      'fmt': '118.22B',\n",
       "      'longFmt': '118,224,003,072'},\n",
       "     'earningsGrowth': {'raw': -0.077, 'fmt': '-7.70%'},\n",
       "     'revenueGrowth': {'raw': 0.019, 'fmt': '1.90%'},\n",
       "     'grossMargins': {'raw': 0.43313998, 'fmt': '43.31%'},\n",
       "     'ebitdaMargins': {'raw': 0.3343, 'fmt': '33.43%'},\n",
       "     'operatingMargins': {'raw': 0.30533, 'fmt': '30.53%'},\n",
       "     'profitMargins': {'raw': 0.25709, 'fmt': '25.71%'},\n",
       "     'financialCurrency': 'USD'}}],\n",
       "  'error': None}}"
      ]
     },
     "execution_count": 189,
     "metadata": {},
     "output_type": "execute_result"
    }
   ],
   "source": [
    "stock2_json = get_api_data(api_url2)\n",
    "stock2_json"
   ]
  },
  {
   "cell_type": "code",
   "execution_count": 190,
   "id": "ce4c0be9",
   "metadata": {},
   "outputs": [
    {
     "data": {
      "text/plain": [
       "'138.38'"
      ]
     },
     "execution_count": 190,
     "metadata": {},
     "output_type": "execute_result"
    }
   ],
   "source": [
    "#Display back current price\n",
    "currentPrice = stock2_json['quoteSummary']['result'][0]['financialData']['currentPrice']['fmt']\n",
    "currentPrice"
   ]
  },
  {
   "cell_type": "code",
   "execution_count": 191,
   "id": "1314c0d5",
   "metadata": {},
   "outputs": [
    {
     "data": {
      "text/plain": [
       "'183.16'"
      ]
     },
     "execution_count": 191,
     "metadata": {},
     "output_type": "execute_result"
    }
   ],
   "source": [
    "#Display back target mean price\n",
    "targetMeanPrice = stock2_json['quoteSummary']['result'][0]['financialData']['targetMeanPrice']['fmt']\n",
    "targetMeanPrice"
   ]
  },
  {
   "cell_type": "code",
   "execution_count": 192,
   "id": "d5aff4ee",
   "metadata": {},
   "outputs": [
    {
     "data": {
      "text/plain": [
       "'48.23B'"
      ]
     },
     "execution_count": 192,
     "metadata": {},
     "output_type": "execute_result"
    }
   ],
   "source": [
    "#Display back cash on hand\n",
    "totalCash = stock2_json['quoteSummary']['result'][0]['financialData']['totalCash']['fmt']\n",
    "totalCash"
   ]
  },
  {
   "cell_type": "code",
   "execution_count": 193,
   "id": "5d3cd936",
   "metadata": {},
   "outputs": [
    {
     "data": {
      "text/plain": [
       "'25.71%'"
      ]
     },
     "execution_count": 193,
     "metadata": {},
     "output_type": "execute_result"
    }
   ],
   "source": [
    "#Display back profit margins\n",
    "profitMarg = stock2_json['quoteSummary']['result'][0]['financialData']['profitMargins']['fmt']\n",
    "profitMarg"
   ]
  },
  {
   "cell_type": "code",
   "execution_count": 194,
   "id": "8e822798",
   "metadata": {},
   "outputs": [
    {
     "data": {
      "text/plain": [
       "'{\"AAPL\": [{\"Ticker\": \"AAPL\", \"Stock Name\": \"Apple Inc.\", \"Current Price\": \"138.38\", \"Target Mean Price\": \"183.16\", \"Cash on Hand\": \"48.23B\", \"Profit Margin\": \"25.71%\", \"Date of Data Pull\": \"2022-10-16 19:54:53.334032\"}]}'"
      ]
     },
     "execution_count": 194,
     "metadata": {},
     "output_type": "execute_result"
    }
   ],
   "source": [
    "from datetime import datetime\n",
    "data = {\n",
    "    (stock_json['quoteResponse']['result'][0]['symbol']): [\n",
    "        {\n",
    "         'Ticker': ticker,\n",
    "         'Stock Name': fullName,\n",
    "         'Current Price': currentPrice,\n",
    "         'Target Mean Price': targetMeanPrice,\n",
    "         'Cash on Hand': totalCash,\n",
    "         'Profit Margin': profitMarg,\n",
    "         'Date of Data Pull': datetime.now()\n",
    "        }\n",
    "    ] \n",
    "}\n",
    "json_file = json.dumps(data, default = str)\n",
    "json_file"
   ]
  },
  {
   "cell_type": "code",
   "execution_count": null,
   "id": "79e4df79",
   "metadata": {},
   "outputs": [],
   "source": []
  }
 ],
 "metadata": {
  "kernelspec": {
   "display_name": "Python 3 (ipykernel)",
   "language": "python",
   "name": "python3"
  },
  "language_info": {
   "codemirror_mode": {
    "name": "ipython",
    "version": 3
   },
   "file_extension": ".py",
   "mimetype": "text/x-python",
   "name": "python",
   "nbconvert_exporter": "python",
   "pygments_lexer": "ipython3",
   "version": "3.9.12"
  }
 },
 "nbformat": 4,
 "nbformat_minor": 5
}
